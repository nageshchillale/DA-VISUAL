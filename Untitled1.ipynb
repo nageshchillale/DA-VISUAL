{
 "cells": [
  {
   "cell_type": "code",
   "execution_count": 4,
   "id": "d7486ef6-40d0-4263-8a1f-60b2af731c10",
   "metadata": {},
   "outputs": [
    {
     "ename": "NameError",
     "evalue": "name 'pd' is not defined",
     "output_type": "error",
     "traceback": [
      "\u001b[31m---------------------------------------------------------------------------\u001b[39m",
      "\u001b[31mNameError\u001b[39m                                 Traceback (most recent call last)",
      "\u001b[36mCell\u001b[39m\u001b[36m \u001b[39m\u001b[32mIn[4]\u001b[39m\u001b[32m, line 2\u001b[39m\n\u001b[32m      1\u001b[39m \u001b[38;5;66;03m# Load GDP data\u001b[39;00m\n\u001b[32m----> \u001b[39m\u001b[32m2\u001b[39m gdp = \u001b[43mpd\u001b[49m.read_csv(\u001b[33m\"\u001b[39m\u001b[33mgdp_per_capita(current us dollar) (1).csv\u001b[39m\u001b[33m\"\u001b[39m)\n\u001b[32m      4\u001b[39m \u001b[38;5;66;03m# Clean and reshape\u001b[39;00m\n\u001b[32m      5\u001b[39m gdp = gdp.drop(columns=[\u001b[33m\"\u001b[39m\u001b[33mSeries Name\u001b[39m\u001b[33m\"\u001b[39m, \u001b[33m\"\u001b[39m\u001b[33mSeries Code\u001b[39m\u001b[33m\"\u001b[39m])\n",
      "\u001b[31mNameError\u001b[39m: name 'pd' is not defined"
     ]
    }
   ],
   "source": [
    "# Load GDP data\n",
    "gdp = pd.read_csv(\"gdp_per_capita(current us dollar) (1).csv\")\n",
    "\n",
    "# Clean and reshape\n",
    "gdp = gdp.drop(columns=[\"Series Name\", \"Series Code\"])\n",
    "gdp_long = gdp.melt(id_vars=[\"Country Name\", \"Country Code\"], var_name=\"Year\", value_name=\"GDP_per_capita\")\n",
    "gdp_long['Year'] = gdp_long['Year'].str.extract(r'(\\d{4})').astype(int)\n",
    "gdp_long['GDP_per_capita'] = pd.to_numeric(gdp_long['GDP_per_capita'], errors='coerce')\n"
   ]
  }
 ],
 "metadata": {
  "kernelspec": {
   "display_name": "Python 3 (ipykernel)",
   "language": "python",
   "name": "python3"
  },
  "language_info": {
   "codemirror_mode": {
    "name": "ipython",
    "version": 3
   },
   "file_extension": ".py",
   "mimetype": "text/x-python",
   "name": "python",
   "nbconvert_exporter": "python",
   "pygments_lexer": "ipython3",
   "version": "3.13.3"
  }
 },
 "nbformat": 4,
 "nbformat_minor": 5
}
